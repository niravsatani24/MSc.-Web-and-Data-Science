{
  "cells": [
    {
      "cell_type": "markdown",
      "metadata": {
        "id": "view-in-github",
        "colab_type": "text"
      },
      "source": [
        "<a href=\"https://colab.research.google.com/github/ns241098/MSc.-Web-and-Data-Science/blob/main/Assignment_8.ipynb\" target=\"_parent\"><img src=\"https://colab.research.google.com/assets/colab-badge.svg\" alt=\"Open In Colab\"/></a>"
      ]
    },
    {
      "cell_type": "code",
      "execution_count": null,
      "id": "283d50ce",
      "metadata": {
        "id": "283d50ce"
      },
      "outputs": [],
      "source": [
        "import numpy as np\n",
        "import matplotlib.pyplot as plt\n",
        "from scipy.stats import poisson,uniform"
      ]
    },
    {
      "cell_type": "code",
      "execution_count": null,
      "id": "47f61b2f",
      "metadata": {
        "id": "47f61b2f"
      },
      "outputs": [],
      "source": [
        "y = [0,0,1,2,0,2,2,1,1]\n",
        "y.sort()"
      ]
    },
    {
      "cell_type": "code",
      "execution_count": null,
      "id": "f5a20430",
      "metadata": {
        "id": "f5a20430"
      },
      "outputs": [],
      "source": [
        "def poiss(x,lambd):\n",
        "    lamb = np.prod(poisson.pmf(x,lambd)) * uniform.pdf(lambd,0,4)\n",
        "    return lamb"
      ]
    },
    {
      "cell_type": "markdown",
      "id": "d5b16f93",
      "metadata": {
        "id": "d5b16f93"
      },
      "source": [
        "# Metropolis Hastings Algo"
      ]
    },
    {
      "cell_type": "code",
      "execution_count": null,
      "id": "c9e8595b",
      "metadata": {
        "id": "c9e8595b"
      },
      "outputs": [],
      "source": [
        "cand_accept = 1\n",
        "a_points = []\n",
        "for i in range (2000):\n",
        "    new = np.random.normal(size=1,loc=cand_accept,scale=0.1)\n",
        "    \n",
        "    if new > 0 and (np.random.uniform(1,0,1) < poiss(y,new)/poiss(y,cand_accept)):\n",
        "        cand_accept = new\n",
        "        a_points.extend(cand_accept)"
      ]
    },
    {
      "cell_type": "markdown",
      "id": "de386a85",
      "metadata": {
        "id": "de386a85"
      },
      "source": [
        "# Plotting"
      ]
    },
    {
      "cell_type": "code",
      "execution_count": null,
      "id": "c86bba1d",
      "metadata": {
        "id": "c86bba1d",
        "outputId": "5988c6be-2c50-45ef-bf81-0898e2a4fe1c",
        "colab": {
          "base_uri": "https://localhost:8080/",
          "height": 391
        }
      },
      "outputs": [
        {
          "output_type": "execute_result",
          "data": {
            "text/plain": [
              "[<matplotlib.lines.Line2D at 0x7f7ec4df3f50>]"
            ]
          },
          "metadata": {},
          "execution_count": 7
        },
        {
          "output_type": "display_data",
          "data": {
            "image/png": "[encoded data removed]",
            "text/plain": [
              "<Figure size 1080x432 with 1 Axes>"
            ]
          },
          "metadata": {
            "needs_background": "light"
          }
        }
      ],
      "source": [
        "lamb = np.linspace(0,4,100)\n",
        "post=[]\n",
        "l=[]\n",
        "plt.figure(figsize = (15,6))\n",
        "for j in lamb:\n",
        "    d = poiss(y,j)\n",
        "    post.append(d)\n",
        "    l.append(j)\n",
        "plt.hist(a_points,bins=40,density=True,color='purple')\n",
        "plt.plot(lamb,post/max(post))"
      ]
    }
  ],
  "metadata": {
    "kernelspec": {
      "display_name": "Python 3 (ipykernel)",
      "language": "python",
      "name": "python3"
    },
    "language_info": {
      "codemirror_mode": {
        "name": "ipython",
        "version": 3
      },
      "file_extension": ".py",
      "mimetype": "text/x-python",
      "name": "python",
      "nbconvert_exporter": "python",
      "pygments_lexer": "ipython3",
      "version": "3.9.7"
    },
    "colab": {
      "name": "Assignment 8.ipynb",
      "provenance": [],
      "include_colab_link": true
    }
  },
  "nbformat": 4,
  "nbformat_minor": 5
}
