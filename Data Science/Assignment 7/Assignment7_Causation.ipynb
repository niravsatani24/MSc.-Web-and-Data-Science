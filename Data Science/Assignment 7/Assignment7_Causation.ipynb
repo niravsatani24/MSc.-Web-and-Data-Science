{
  "nbformat": 4,
  "nbformat_minor": 0,
  "metadata": {
    "colab": {
      "name": "Assignment7 Causation.ipynb",
      "provenance": [],
      "collapsed_sections": [],
      "include_colab_link": true
    },
    "kernelspec": {
      "name": "python3",
      "display_name": "Python 3"
    },
    "language_info": {
      "name": "python"
    }
  },
  "cells": [
    {
      "cell_type": "markdown",
      "metadata": {
        "id": "view-in-github",
        "colab_type": "text"
      },
      "source": [
        "<a href=\"https://colab.research.google.com/github/ns241098/MSc.-Web-and-Data-Science/blob/main/Assignment7_Causation.ipynb\" target=\"_parent\"><img src=\"https://colab.research.google.com/assets/colab-badge.svg\" alt=\"Open In Colab\"/></a>"
      ]
    },
    {
      "cell_type": "code",
      "execution_count": null,
      "metadata": {
        "id": "93ezZaLPzVfp"
      },
      "outputs": [],
      "source": [
        "import pandas as pd\n",
        "import numpy as np\n",
        "import seaborn as sns\n",
        "import matplotlib.pyplot as plt\n",
        "import pystan\n",
        "from numpy.core.fromnumeric import size"
      ]
    },
    {
      "cell_type": "code",
      "source": [
        "n= 500\n",
        "s= np.random.normal(size=n)     #salary\n",
        "t= np.random.normal(loc= -s, size=n)   #time\n",
        "h= np.random.normal(loc= (s-t), size=n)  #happiness"
      ],
      "metadata": {
        "id": "OcbfTLzKq-QH"
      },
      "execution_count": null,
      "outputs": []
    },
    {
      "cell_type": "code",
      "source": [
        "#stan model\n",
        "\n",
        "sample_code=\"\"\"\n",
        "data{\n",
        "  int<lower=1> N;\n",
        "  vector[N] S;\n",
        "  vector[N] T;\n",
        "  vector[N] H;\n",
        "\n",
        "}\n",
        "parameters{\n",
        "  real<lower=0> sigma;\n",
        "  real alpha;\n",
        "  real bS;\n",
        "  real bT;\n",
        "}\n",
        "model{\n",
        "  vector[N] mu;\n",
        "  mu= alpha+ bS*S + bT*T;\n",
        "  H ~ normal(mu, sigma);\n",
        "}\n",
        "\"\"\""
      ],
      "metadata": {
        "id": "SBaz8wn3rvY5"
      },
      "execution_count": null,
      "outputs": []
    },
    {
      "cell_type": "code",
      "source": [
        "people_data= {\n",
        "    \"N\": 500,\n",
        "    \"S\": s,\n",
        "    \"T\": t,\n",
        "    \"H\": h\n",
        "}"
      ],
      "metadata": {
        "id": "4mHN8THDyu28"
      },
      "execution_count": null,
      "outputs": []
    },
    {
      "cell_type": "code",
      "source": [
        "sm = pystan.StanModel(model_code=sample_code)                      #fit model\n",
        "fit = sm.sampling(data=people_data, iter=1000, chains=4, seed=1)     "
      ],
      "metadata": {
        "colab": {
          "base_uri": "https://localhost:8080/"
        },
        "id": "LWnMIN7Ny_yz",
        "outputId": "c71ac41d-3cfb-4ac5-cabc-5f8cd843f170"
      },
      "execution_count": null,
      "outputs": [
        {
          "output_type": "stream",
          "name": "stderr",
          "text": [
            "INFO:pystan:COMPILING THE C++ CODE FOR MODEL anon_model_0fa5fa1e2e1fdcf0ad64a498e55c0bd9 NOW.\n"
          ]
        }
      ]
    },
    {
      "cell_type": "code",
      "source": [
        "summary_dict = fit.summary()\n",
        "dfNew = pd.DataFrame(summary_dict['summary'], \n",
        "                  columns=summary_dict['summary_colnames'], \n",
        "                  index=summary_dict['summary_rownames'])\n",
        "\n",
        "dfNew.head()"
      ],
      "metadata": {
        "colab": {
          "base_uri": "https://localhost:8080/",
          "height": 206
        },
        "id": "xYHFQ4LEz4vd",
        "outputId": "c0092750-e621-402f-852f-3890189f86a5"
      },
      "execution_count": null,
      "outputs": [
        {
          "output_type": "execute_result",
          "data": {
            "text/html": [
              "\n",
              "  <div id=\"df-95f72465-82de-4b24-8804-d224f8c5a362\">\n",
              "    <div class=\"colab-df-container\">\n",
              "      <div>\n",
              "<style scoped>\n",
              "    .dataframe tbody tr th:only-of-type {\n",
              "        vertical-align: middle;\n",
              "    }\n",
              "\n",
              "    .dataframe tbody tr th {\n",
              "        vertical-align: top;\n",
              "    }\n",
              "\n",
              "    .dataframe thead th {\n",
              "        text-align: right;\n",
              "    }\n",
              "</style>\n",
              "<table border=\"1\" class=\"dataframe\">\n",
              "  <thead>\n",
              "    <tr style=\"text-align: right;\">\n",
              "      <th></th>\n",
              "      <th>mean</th>\n",
              "      <th>se_mean</th>\n",
              "      <th>sd</th>\n",
              "      <th>2.5%</th>\n",
              "      <th>25%</th>\n",
              "      <th>50%</th>\n",
              "      <th>75%</th>\n",
              "      <th>97.5%</th>\n",
              "      <th>n_eff</th>\n",
              "      <th>Rhat</th>\n",
              "    </tr>\n",
              "  </thead>\n",
              "  <tbody>\n",
              "    <tr>\n",
              "      <th>sigma</th>\n",
              "      <td>0.975789</td>\n",
              "      <td>0.000715</td>\n",
              "      <td>0.030627</td>\n",
              "      <td>0.919179</td>\n",
              "      <td>0.954902</td>\n",
              "      <td>0.974024</td>\n",
              "      <td>0.995769</td>\n",
              "      <td>1.037739</td>\n",
              "      <td>1836.224243</td>\n",
              "      <td>0.998958</td>\n",
              "    </tr>\n",
              "    <tr>\n",
              "      <th>alpha</th>\n",
              "      <td>0.044306</td>\n",
              "      <td>0.000951</td>\n",
              "      <td>0.043025</td>\n",
              "      <td>-0.041430</td>\n",
              "      <td>0.014712</td>\n",
              "      <td>0.044975</td>\n",
              "      <td>0.073990</td>\n",
              "      <td>0.127272</td>\n",
              "      <td>2048.188442</td>\n",
              "      <td>0.999997</td>\n",
              "    </tr>\n",
              "    <tr>\n",
              "      <th>bS</th>\n",
              "      <td>1.043742</td>\n",
              "      <td>0.001993</td>\n",
              "      <td>0.060505</td>\n",
              "      <td>0.924072</td>\n",
              "      <td>1.004370</td>\n",
              "      <td>1.042651</td>\n",
              "      <td>1.085102</td>\n",
              "      <td>1.160178</td>\n",
              "      <td>921.729768</td>\n",
              "      <td>1.008019</td>\n",
              "    </tr>\n",
              "    <tr>\n",
              "      <th>bT</th>\n",
              "      <td>-1.011717</td>\n",
              "      <td>0.001433</td>\n",
              "      <td>0.045447</td>\n",
              "      <td>-1.100735</td>\n",
              "      <td>-1.042057</td>\n",
              "      <td>-1.011687</td>\n",
              "      <td>-0.982304</td>\n",
              "      <td>-0.922974</td>\n",
              "      <td>1006.250043</td>\n",
              "      <td>1.007251</td>\n",
              "    </tr>\n",
              "    <tr>\n",
              "      <th>lp__</th>\n",
              "      <td>-236.979653</td>\n",
              "      <td>0.051047</td>\n",
              "      <td>1.429980</td>\n",
              "      <td>-240.473187</td>\n",
              "      <td>-237.660189</td>\n",
              "      <td>-236.671075</td>\n",
              "      <td>-235.955997</td>\n",
              "      <td>-235.174183</td>\n",
              "      <td>784.741833</td>\n",
              "      <td>0.999938</td>\n",
              "    </tr>\n",
              "  </tbody>\n",
              "</table>\n",
              "</div>\n",
              "      <button class=\"colab-df-convert\" onclick=\"convertToInteractive('df-95f72465-82de-4b24-8804-d224f8c5a362')\"\n",
              "              title=\"Convert this dataframe to an interactive table.\"\n",
              "              style=\"display:none;\">\n",
              "        \n",
              "  <svg xmlns=\"http://www.w3.org/2000/svg\" height=\"24px\"viewBox=\"0 0 24 24\"\n",
              "       width=\"24px\">\n",
              "    <path d=\"M0 0h24v24H0V0z\" fill=\"none\"/>\n",
              "    <path d=\"M18.56 5.44l.94 2.06.94-2.06 2.06-.94-2.06-.94-.94-2.06-.94 2.06-2.06.94zm-11 1L8.5 8.5l.94-2.06 2.06-.94-2.06-.94L8.5 2.5l-.94 2.06-2.06.94zm10 10l.94 2.06.94-2.06 2.06-.94-2.06-.94-.94-2.06-.94 2.06-2.06.94z\"/><path d=\"M17.41 7.96l-1.37-1.37c-.4-.4-.92-.59-1.43-.59-.52 0-1.04.2-1.43.59L10.3 9.45l-7.72 7.72c-.78.78-.78 2.05 0 2.83L4 21.41c.39.39.9.59 1.41.59.51 0 1.02-.2 1.41-.59l7.78-7.78 2.81-2.81c.8-.78.8-2.07 0-2.86zM5.41 20L4 18.59l7.72-7.72 1.47 1.35L5.41 20z\"/>\n",
              "  </svg>\n",
              "      </button>\n",
              "      \n",
              "  <style>\n",
              "    .colab-df-container {\n",
              "      display:flex;\n",
              "      flex-wrap:wrap;\n",
              "      gap: 12px;\n",
              "    }\n",
              "\n",
              "    .colab-df-convert {\n",
              "      background-color: #E8F0FE;\n",
              "      border: none;\n",
              "      border-radius: 50%;\n",
              "      cursor: pointer;\n",
              "      display: none;\n",
              "      fill: #1967D2;\n",
              "      height: 32px;\n",
              "      padding: 0 0 0 0;\n",
              "      width: 32px;\n",
              "    }\n",
              "\n",
              "    .colab-df-convert:hover {\n",
              "      background-color: #E2EBFA;\n",
              "      box-shadow: 0px 1px 2px rgba(60, 64, 67, 0.3), 0px 1px 3px 1px rgba(60, 64, 67, 0.15);\n",
              "      fill: #174EA6;\n",
              "    }\n",
              "\n",
              "    [theme=dark] .colab-df-convert {\n",
              "      background-color: #3B4455;\n",
              "      fill: #D2E3FC;\n",
              "    }\n",
              "\n",
              "    [theme=dark] .colab-df-convert:hover {\n",
              "      background-color: #434B5C;\n",
              "      box-shadow: 0px 1px 3px 1px rgba(0, 0, 0, 0.15);\n",
              "      filter: drop-shadow(0px 1px 2px rgba(0, 0, 0, 0.3));\n",
              "      fill: #FFFFFF;\n",
              "    }\n",
              "  </style>\n",
              "\n",
              "      <script>\n",
              "        const buttonEl =\n",
              "          document.querySelector('#df-95f72465-82de-4b24-8804-d224f8c5a362 button.colab-df-convert');\n",
              "        buttonEl.style.display =\n",
              "          google.colab.kernel.accessAllowed ? 'block' : 'none';\n",
              "\n",
              "        async function convertToInteractive(key) {\n",
              "          const element = document.querySelector('#df-95f72465-82de-4b24-8804-d224f8c5a362');\n",
              "          const dataTable =\n",
              "            await google.colab.kernel.invokeFunction('convertToInteractive',\n",
              "                                                     [key], {});\n",
              "          if (!dataTable) return;\n",
              "\n",
              "          const docLinkHtml = 'Like what you see? Visit the ' +\n",
              "            '<a target=\"_blank\" href=https://colab.research.google.com/notebooks/data_table.ipynb>data table notebook</a>'\n",
              "            + ' to learn more about interactive tables.';\n",
              "          element.innerHTML = '';\n",
              "          dataTable['output_type'] = 'display_data';\n",
              "          await google.colab.output.renderOutput(dataTable, element);\n",
              "          const docLink = document.createElement('div');\n",
              "          docLink.innerHTML = docLinkHtml;\n",
              "          element.appendChild(docLink);\n",
              "        }\n",
              "      </script>\n",
              "    </div>\n",
              "  </div>\n",
              "  "
            ],
            "text/plain": [
              "             mean   se_mean        sd  ...       97.5%        n_eff      Rhat\n",
              "sigma    0.975789  0.000715  0.030627  ...    1.037739  1836.224243  0.998958\n",
              "alpha    0.044306  0.000951  0.043025  ...    0.127272  2048.188442  0.999997\n",
              "bS       1.043742  0.001993  0.060505  ...    1.160178   921.729768  1.008019\n",
              "bT      -1.011717  0.001433  0.045447  ...   -0.922974  1006.250043  1.007251\n",
              "lp__  -236.979653  0.051047  1.429980  ... -235.174183   784.741833  0.999938\n",
              "\n",
              "[5 rows x 10 columns]"
            ]
          },
          "metadata": {},
          "execution_count": 6
        }
      ]
    },
    {
      "cell_type": "code",
      "source": [
        "alpha, betaS, betaT= dfNew['mean']['alpha'], dfNew['mean']['bS'], dfNew['mean']['bT']\n",
        "betaFitS=fit['bS']\n",
        "alphaFit= fit['alpha']\n",
        "betaFitT= fit['bT']\n",
        "\n",
        "plt.hist(alphaFit)\n",
        "plt.xlabel('Alpha')\n",
        "plt.ylabel('Frequency')"
      ],
      "metadata": {
        "colab": {
          "base_uri": "https://localhost:8080/",
          "height": 296
        },
        "id": "9wKeBCCf0pJu",
        "outputId": "fc457473-02f9-41b0-ed45-877904fcc1f8"
      },
      "execution_count": null,
      "outputs": [
        {
          "output_type": "execute_result",
          "data": {
            "text/plain": [
              "Text(0, 0.5, 'Frequency')"
            ]
          },
          "metadata": {},
          "execution_count": 7
        },
        {
          "output_type": "display_data",
          "data": {
            "image/png": "[encoded data removed]",
            "text/plain": [
              "<Figure size 432x288 with 1 Axes>"
            ]
          },
          "metadata": {
            "needs_background": "light"
          }
        }
      ]
    },
    {
      "cell_type": "code",
      "source": [
        "plt.hist(betaFitS)"
      ],
      "metadata": {
        "colab": {
          "base_uri": "https://localhost:8080/",
          "height": 352
        },
        "id": "O34gmsc212VS",
        "outputId": "0e84cb22-3926-451a-d990-a67f02ae8736"
      },
      "execution_count": null,
      "outputs": [
        {
          "output_type": "execute_result",
          "data": {
            "text/plain": [
              "(array([  1.,  23.,  72., 234., 473., 525., 431., 179.,  47.,  15.]),\n",
              " array([0.81712554, 0.85946411, 0.90180268, 0.94414126, 0.98647983,\n",
              "        1.0288184 , 1.07115698, 1.11349555, 1.15583412, 1.1981727 ,\n",
              "        1.24051127]),\n",
              " <a list of 10 Patch objects>)"
            ]
          },
          "metadata": {},
          "execution_count": 8
        },
        {
          "output_type": "display_data",
          "data": {
            "image/png": "[encoded data removed]",
            "text/plain": [
              "<Figure size 432x288 with 1 Axes>"
            ]
          },
          "metadata": {
            "needs_background": "light"
          }
        }
      ]
    },
    {
      "cell_type": "code",
      "source": [
        "plt.hist(betaFitT)"
      ],
      "metadata": {
        "colab": {
          "base_uri": "https://localhost:8080/",
          "height": 352
        },
        "id": "vKS7que819cv",
        "outputId": "07691938-d613-4c55-8571-11e202782179"
      },
      "execution_count": null,
      "outputs": [
        {
          "output_type": "execute_result",
          "data": {
            "text/plain": [
              "(array([ 13.,  60., 203., 399., 549., 461., 217.,  73.,  22.,   3.]),\n",
              " array([-1.15456659, -1.12339094, -1.0922153 , -1.06103965, -1.02986401,\n",
              "        -0.99868836, -0.96751272, -0.93633707, -0.90516143, -0.87398578,\n",
              "        -0.84281014]),\n",
              " <a list of 10 Patch objects>)"
            ]
          },
          "metadata": {},
          "execution_count": 9
        },
        {
          "output_type": "display_data",
          "data": {
            "image/png": "[encoded data removed]",
            "text/plain": [
              "<Figure size 432x288 with 1 Axes>"
            ]
          },
          "metadata": {
            "needs_background": "light"
          }
        }
      ]
    }
  ]
}
