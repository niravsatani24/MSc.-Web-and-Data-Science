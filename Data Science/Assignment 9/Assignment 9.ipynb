{
  "cells": [
    {
      "cell_type": "markdown",
      "metadata": {
        "id": "view-in-github",
        "colab_type": "text"
      },
      "source": [
        "<a href=\"https://colab.research.google.com/github/ns241098/MSc.-Web-and-Data-Science/blob/main/Assignment%209.ipynb\" target=\"_parent\"><img src=\"https://colab.research.google.com/assets/colab-badge.svg\" alt=\"Open In Colab\"/></a>"
      ]
    },
    {
      "cell_type": "code",
      "execution_count": null,
      "metadata": {
        "id": "ytnwP35h423O"
      },
      "outputs": [],
      "source": [
        "import pandas as pd\n",
        "import matplotlib.pyplot as plt\n",
        "import numpy\n",
        "import pystan"
      ]
    },
    {
      "cell_type": "code",
      "execution_count": null,
      "metadata": {
        "colab": {
          "base_uri": "https://localhost:8080/",
          "height": 206
        },
        "id": "jWqLOQGK48di",
        "outputId": "7d212d09-967a-4865-be32-98d993c632e7"
      },
      "outputs": [
        {
          "data": {
            "text/html": [
              "\n",
              "  <div id=\"df-aad53e7b-20d3-4ffd-8035-cf3c8adb77fe\">\n",
              "    <div class=\"colab-df-container\">\n",
              "      <div>\n",
              "<style scoped>\n",
              "    .dataframe tbody tr th:only-of-type {\n",
              "        vertical-align: middle;\n",
              "    }\n",
              "\n",
              "    .dataframe tbody tr th {\n",
              "        vertical-align: top;\n",
              "    }\n",
              "\n",
              "    .dataframe thead th {\n",
              "        text-align: right;\n",
              "    }\n",
              "</style>\n",
              "<table border=\"1\" class=\"dataframe\">\n",
              "  <thead>\n",
              "    <tr style=\"text-align: right;\">\n",
              "      <th></th>\n",
              "      <th>X1</th>\n",
              "      <th>X2</th>\n",
              "      <th>Y</th>\n",
              "    </tr>\n",
              "  </thead>\n",
              "  <tbody>\n",
              "    <tr>\n",
              "      <th>0</th>\n",
              "      <td>-0.626454</td>\n",
              "      <td>0.409402</td>\n",
              "      <td>0.679195</td>\n",
              "    </tr>\n",
              "    <tr>\n",
              "      <th>1</th>\n",
              "      <td>0.183643</td>\n",
              "      <td>1.688873</td>\n",
              "      <td>1.331719</td>\n",
              "    </tr>\n",
              "    <tr>\n",
              "      <th>2</th>\n",
              "      <td>-0.835629</td>\n",
              "      <td>1.586588</td>\n",
              "      <td>-0.075450</td>\n",
              "    </tr>\n",
              "    <tr>\n",
              "      <th>3</th>\n",
              "      <td>1.595281</td>\n",
              "      <td>-0.330908</td>\n",
              "      <td>0.981765</td>\n",
              "    </tr>\n",
              "    <tr>\n",
              "      <th>4</th>\n",
              "      <td>0.329508</td>\n",
              "      <td>-2.285236</td>\n",
              "      <td>0.465314</td>\n",
              "    </tr>\n",
              "  </tbody>\n",
              "</table>\n",
              "</div>\n",
              "      <button class=\"colab-df-convert\" onclick=\"convertToInteractive('df-aad53e7b-20d3-4ffd-8035-cf3c8adb77fe')\"\n",
              "              title=\"Convert this dataframe to an interactive table.\"\n",
              "              style=\"display:none;\">\n",
              "        \n",
              "  <svg xmlns=\"http://www.w3.org/2000/svg\" height=\"24px\"viewBox=\"0 0 24 24\"\n",
              "       width=\"24px\">\n",
              "    <path d=\"M0 0h24v24H0V0z\" fill=\"none\"/>\n",
              "    <path d=\"M18.56 5.44l.94 2.06.94-2.06 2.06-.94-2.06-.94-.94-2.06-.94 2.06-2.06.94zm-11 1L8.5 8.5l.94-2.06 2.06-.94-2.06-.94L8.5 2.5l-.94 2.06-2.06.94zm10 10l.94 2.06.94-2.06 2.06-.94-2.06-.94-.94-2.06-.94 2.06-2.06.94z\"/><path d=\"M17.41 7.96l-1.37-1.37c-.4-.4-.92-.59-1.43-.59-.52 0-1.04.2-1.43.59L10.3 9.45l-7.72 7.72c-.78.78-.78 2.05 0 2.83L4 21.41c.39.39.9.59 1.41.59.51 0 1.02-.2 1.41-.59l7.78-7.78 2.81-2.81c.8-.78.8-2.07 0-2.86zM5.41 20L4 18.59l7.72-7.72 1.47 1.35L5.41 20z\"/>\n",
              "  </svg>\n",
              "      </button>\n",
              "      \n",
              "  <style>\n",
              "    .colab-df-container {\n",
              "      display:flex;\n",
              "      flex-wrap:wrap;\n",
              "      gap: 12px;\n",
              "    }\n",
              "\n",
              "    .colab-df-convert {\n",
              "      background-color: #E8F0FE;\n",
              "      border: none;\n",
              "      border-radius: 50%;\n",
              "      cursor: pointer;\n",
              "      display: none;\n",
              "      fill: #1967D2;\n",
              "      height: 32px;\n",
              "      padding: 0 0 0 0;\n",
              "      width: 32px;\n",
              "    }\n",
              "\n",
              "    .colab-df-convert:hover {\n",
              "      background-color: #E2EBFA;\n",
              "      box-shadow: 0px 1px 2px rgba(60, 64, 67, 0.3), 0px 1px 3px 1px rgba(60, 64, 67, 0.15);\n",
              "      fill: #174EA6;\n",
              "    }\n",
              "\n",
              "    [theme=dark] .colab-df-convert {\n",
              "      background-color: #3B4455;\n",
              "      fill: #D2E3FC;\n",
              "    }\n",
              "\n",
              "    [theme=dark] .colab-df-convert:hover {\n",
              "      background-color: #434B5C;\n",
              "      box-shadow: 0px 1px 3px 1px rgba(0, 0, 0, 0.15);\n",
              "      filter: drop-shadow(0px 1px 2px rgba(0, 0, 0, 0.3));\n",
              "      fill: #FFFFFF;\n",
              "    }\n",
              "  </style>\n",
              "\n",
              "      <script>\n",
              "        const buttonEl =\n",
              "          document.querySelector('#df-aad53e7b-20d3-4ffd-8035-cf3c8adb77fe button.colab-df-convert');\n",
              "        buttonEl.style.display =\n",
              "          google.colab.kernel.accessAllowed ? 'block' : 'none';\n",
              "\n",
              "        async function convertToInteractive(key) {\n",
              "          const element = document.querySelector('#df-aad53e7b-20d3-4ffd-8035-cf3c8adb77fe');\n",
              "          const dataTable =\n",
              "            await google.colab.kernel.invokeFunction('convertToInteractive',\n",
              "                                                     [key], {});\n",
              "          if (!dataTable) return;\n",
              "\n",
              "          const docLinkHtml = 'Like what you see? Visit the ' +\n",
              "            '<a target=\"_blank\" href=https://colab.research.google.com/notebooks/data_table.ipynb>data table notebook</a>'\n",
              "            + ' to learn more about interactive tables.';\n",
              "          element.innerHTML = '';\n",
              "          dataTable['output_type'] = 'display_data';\n",
              "          await google.colab.output.renderOutput(dataTable, element);\n",
              "          const docLink = document.createElement('div');\n",
              "          docLink.innerHTML = docLinkHtml;\n",
              "          element.appendChild(docLink);\n",
              "        }\n",
              "      </script>\n",
              "    </div>\n",
              "  </div>\n",
              "  "
            ],
            "text/plain": [
              "         X1        X2         Y\n",
              "0 -0.626454  0.409402  0.679195\n",
              "1  0.183643  1.688873  1.331719\n",
              "2 -0.835629  1.586588 -0.075450\n",
              "3  1.595281 -0.330908  0.981765\n",
              "4  0.329508 -2.285236  0.465314"
            ]
          },
          "execution_count": 2,
          "metadata": {},
          "output_type": "execute_result"
        }
      ],
      "source": [
        "# Can be exchanged to simple/complex.\n",
        "df = pd.read_csv(\"simple.csv\")\n",
        "df.head()"
      ]
    },
    {
      "cell_type": "code",
      "execution_count": null,
      "metadata": {
        "colab": {
          "background_save": true,
          "base_uri": "https://localhost:8080/"
        },
        "id": "cTcXFLW15mL7",
        "outputId": "191cf38c-776e-4cf4-9d39-8f1c62c2e37d"
      },
      "outputs": [
        {
          "name": "stderr",
          "output_type": "stream",
          "text": [
            "INFO:pystan:COMPILING THE C++ CODE FOR MODEL anon_model_7d9fa3ac74c499a4ca124d01dd249d58 NOW.\n",
            "INFO:pystan:COMPILING THE C++ CODE FOR MODEL anon_model_4145ba9a7db66ace45c7512a26675e6e NOW.\n"
          ]
        }
      ],
      "source": [
        "# Compile simple model Stanmodel\n",
        "sm = pystan.StanModel(model_code=\"\"\"\n",
        "    data{\n",
        "      int<lower=0> N;\n",
        "      vector[N] X1;\n",
        "      vector[N] Y;\n",
        "    }\n",
        "    parameters{\n",
        "      real a;\n",
        "      real b1;\n",
        "      real<lower=0> sigma;\n",
        "    }\n",
        "    model{\n",
        "      Y ~ normal(a + b1 * X1 , sigma);\n",
        "    }\n",
        "    \"\"\")\n",
        "\n",
        "# Compile complex model:\n",
        "cm = pystan.StanModel(model_code=\"\"\"\n",
        "    data{\n",
        "      int<lower=0> N;\n",
        "      vector[N] X1;\n",
        "      vector[N] X2;\n",
        "      vector[N] Y;\n",
        "    }\n",
        "    parameters{\n",
        "      real a;\n",
        "      real b1;\n",
        "      real b2;\n",
        "      real<lower=0> sigma;\n",
        "    }\n",
        "    model{\n",
        "      Y ~ normal(a + b1 * X1 + b2 * X2, sigma);\n",
        "    }\n",
        "    \"\"\")"
      ]
    },
    {
      "cell_type": "code",
      "execution_count": null,
      "metadata": {
        "id": "mJEiByZX5vt1"
      },
      "outputs": [],
      "source": [
        "error_simple = []\n",
        "error_complex = []\n",
        "\n",
        "folds = 10\n",
        "\n",
        "# Folds\n",
        "for fold in range(0, folds):\n",
        "    # Splitting data set.\n",
        "    test = df[(df.index % folds) == fold]\n",
        "    train = df[(df.index % folds) != fold]\n",
        "\n",
        "    # Fit the simple model.\n",
        "    fit = sm.sampling(data={\"N\": len(train), \"Y\": train[\"Y\"], \"X1\": train[\"X1\"]}, iter=4000, chains=1)\n",
        "    samples = fit.extract()\n",
        "\n",
        "    # Shame on us not taking the complete posterior.\n",
        "    a = samples[\"a\"].mean()\n",
        "    b1 = samples[\"b1\"].mean()\n",
        "\n",
        "    # Prediction.\n",
        "    Ypred = a + b1 * test[\"X1\"]\n",
        "\n",
        "    error_simple.append(sum([pow(x, 2) for x in Ypred - test[\"Y\"]]))\n",
        "\n",
        "    # Fit the complex model.\n",
        "    fit = cm.sampling(data={\"N\": len(train), \"Y\": train[\"Y\"], \"X1\": train[\"X1\"], \"X2\": train[\"X2\"]}, iter=4000, chains=1)\n",
        "    samples = fit.extract()\n",
        "\n",
        "    # Shame on us not taking the complete posterior.\n",
        "    a = samples[\"a\"].mean()\n",
        "    b1 = samples[\"b1\"].mean()\n",
        "    b2 = samples[\"b2\"].mean()\n",
        "\n",
        "    # Prediction.\n",
        "    Ypred = a + b1 * test[\"X1\"] + b2 * test[\"X2\"]\n",
        "\n",
        "    error_complex.append(sum([pow(x, 2) for x in Ypred - test[\"Y\"]]))\n",
        "\n",
        "# What remains to be done is comparing the collected errors\n",
        "# ..."
      ]
    },
    {
      "cell_type": "code",
      "execution_count": null,
      "metadata": {
        "colab": {
          "base_uri": "https://localhost:8080/",
          "height": 352
        },
        "id": "Y0B3lSAq6tk-",
        "outputId": "8de588ec-ff98-455e-8ea6-72145d43c5a4"
      },
      "outputs": [
        {
          "data": {
            "text/plain": [
              "(array([1., 1., 3., 0., 3., 0., 1., 0., 0., 1.]),\n",
              " array([1.909928  , 2.37799287, 2.84605773, 3.3141226 , 3.78218747,\n",
              "        4.25025233, 4.7183172 , 5.18638207, 5.65444693, 6.1225118 ,\n",
              "        6.59057667]),\n",
              " <a list of 10 Patch objects>)"
            ]
          },
          "execution_count": 23,
          "metadata": {},
          "output_type": "execute_result"
        },
        {
          "data": {
            "image/png": "[encoded data removed]",
            "text/plain": [
              "<Figure size 432x288 with 1 Axes>"
            ]
          },
          "metadata": {},
          "output_type": "display_data"
        }
      ],
      "source": [
        "plt.hist(error_simple)"
      ]
    },
    {
      "cell_type": "code",
      "execution_count": null,
      "metadata": {
        "colab": {
          "base_uri": "https://localhost:8080/",
          "height": 352
        },
        "id": "toCiwHsB60Pv",
        "outputId": "5ee40363-4960-41ad-9ea5-d1c3918388d4"
      },
      "outputs": [
        {
          "data": {
            "text/plain": [
              "(array([1., 2., 2., 0., 3., 0., 1., 0., 0., 1.]),\n",
              " array([1.94958226, 2.42659789, 2.90361352, 3.38062914, 3.85764477,\n",
              "        4.3346604 , 4.81167602, 5.28869165, 5.76570728, 6.2427229 ,\n",
              "        6.71973853]),\n",
              " <a list of 10 Patch objects>)"
            ]
          },
          "execution_count": 24,
          "metadata": {},
          "output_type": "execute_result"
        },
        {
          "data": {
            "image/png": "[encoded data removed]",
            "text/plain": [
              "<Figure size 432x288 with 1 Axes>"
            ]
          },
          "metadata": {},
          "output_type": "display_data"
        }
      ],
      "source": [
        "plt.hist(error_complex)"
      ]
    }
  ],
  "metadata": {
    "colab": {
      "collapsed_sections": [],
      "name": "Assignment 9.ipynb",
      "provenance": [],
      "include_colab_link": true
    },
    "kernelspec": {
      "display_name": "Python 3",
      "name": "python3"
    },
    "language_info": {
      "name": "python"
    }
  },
  "nbformat": 4,
  "nbformat_minor": 0
}
