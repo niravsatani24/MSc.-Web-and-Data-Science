{
 "cells": [
  {
   "cell_type": "code",
   "execution_count": 1,
   "metadata": {},
   "outputs": [],
   "source": [
    "import pandas as pd"
   ]
  },
  {
   "cell_type": "markdown",
   "metadata": {},
   "source": [
    "# A"
   ]
  },
  {
   "cell_type": "code",
   "execution_count": 2,
   "metadata": {},
   "outputs": [],
   "source": [
    "df= pd.read_csv('ML_assignment02_dataset_2021.csv')"
   ]
  },
  {
   "cell_type": "code",
   "execution_count": null,
   "metadata": {},
   "outputs": [],
   "source": []
  },
  {
   "cell_type": "code",
   "execution_count": 3,
   "metadata": {},
   "outputs": [],
   "source": [
    "def del_duplicate(data):\n",
    "    data = data.drop_duplicates()\n",
    "    data.to_csv('del_duplicate', index= False)\n",
    "    return data"
   ]
  },
  {
   "cell_type": "markdown",
   "metadata": {},
   "source": [
    "# B"
   ]
  },
  {
   "cell_type": "code",
   "execution_count": 4,
   "metadata": {},
   "outputs": [],
   "source": [
    "#df= pd.read_csv('ML_assignment02_dataset_2021.csv')\n",
    "#df.head()"
   ]
  },
  {
   "cell_type": "code",
   "execution_count": 5,
   "metadata": {},
   "outputs": [],
   "source": [
    "def fill_values(data):\n",
    "    result = data.copy()\n",
    "    fruits = set(result[\"Fruit (class)\"].tolist())\n",
    "    for clm in result:\n",
    "        if result[clm].dtype in [\"int64\", \"float64\"]:\n",
    "            for fruit in fruits:\n",
    "                result.loc[(result[clm] == 0) & (result[\"Fruit (class)\"] == fruit), clm] = round(result.loc[(result[\"Fruit (class)\"] == fruit) & (result[clm] > 0), clm].mean(), 3)\n",
    "    result.to_csv('fill_values.csv', index = False)\n",
    "    return result"
   ]
  },
  {
   "cell_type": "markdown",
   "metadata": {},
   "source": [
    "# C"
   ]
  },
  {
   "cell_type": "code",
   "execution_count": 17,
   "metadata": {},
   "outputs": [],
   "source": [
    "#df= pd.read_csv('ML_assignment02_dataset_2021.csv')\n",
    "#df.head()"
   ]
  },
  {
   "cell_type": "code",
   "execution_count": 18,
   "metadata": {},
   "outputs": [],
   "source": [
    "def transform_nominal(data):\n",
    "    ans=pd.get_dummies(data, columns=['Colour'])\n",
    "    ans=ans.rename(columns={'Colour_Green':'Green','Colour_Red':'Red','Colour_Yellow':'Yellow'})\n",
    "    ans.to_csv('transform_nominal.csv')\n",
    "    return ans\n",
    "\n"
   ]
  },
  {
   "cell_type": "markdown",
   "metadata": {},
   "source": [
    "# D"
   ]
  },
  {
   "cell_type": "code",
   "execution_count": 19,
   "metadata": {},
   "outputs": [],
   "source": [
    "#df= pd.read_csv('ML_assignment02_dataset_2021.csv')\n",
    "#df.head()"
   ]
  },
  {
   "cell_type": "code",
   "execution_count": 20,
   "metadata": {},
   "outputs": [],
   "source": [
    "def normalize_minmax(data):\n",
    "    result = data.copy()\n",
    "    for clm in result:\n",
    "        if result[clm].dtype in [\"int64\", \"float64\"]:\n",
    "            maxi = data[clm].max()\n",
    "            mini = data[clm].min()\n",
    "            result[clm] = round((data[clm] - mini) / (maxi - mini), 3)\n",
    "    result.to_csv('normalize_minmax.csv', index = False)\n",
    "    return result"
   ]
  },
  {
   "cell_type": "code",
   "execution_count": 34,
   "metadata": {},
   "outputs": [
    {
     "name": "stdout",
     "output_type": "stream",
     "text": [
      "    Colour  Radius (cm)  Weight (grams) Fruit (class)\n",
      "0    Green          4.3             122          Pear\n",
      "1    Green          4.6             152          Pear\n",
      "2    Green          3.1              85         Apple\n",
      "3    Green          3.6             173          Pear\n",
      "4    Green          2.5              65         Lemon\n",
      "5    Green          2.5              70         Apple\n",
      "6    Green          2.7              73         Apple\n",
      "7    Green          4.5             110          Pear\n",
      "8    Green          2.5              86         Apple\n",
      "9    Green          2.4              68         Lemon\n",
      "10   Green          4.2             126          Pear\n",
      "11     Red          3.7             101         Apple\n",
      "12     Red          3.7             100         Apple\n",
      "13     Red          3.4              80         Apple\n",
      "14  Yellow          3.2              79         Apple\n",
      "15  Yellow          3.1              69         Lemon\n",
      "16  Yellow          2.1              64         Apple\n",
      "17  Yellow          2.6              58         Lemon\n",
      "18  Yellow          2.1              40         Lemon\n",
      "19  Yellow          2.3              60         Lemon\n",
      "20  Yellow          4.2             105          Pear\n",
      "22  Yellow          3.2              64         Lemon\n",
      "23  Yellow          2.9              53         Lemon\n",
      "24  Yellow          4.1             135          Pear\n",
      "25  Yellow          5.2             142          Pear\n",
      "27  Yellow          0.0             137          Pear\n",
      "28  Yellow          3.0              98         Apple\n",
      "29  Yellow          2.4               0         Lemon\n",
      "30  Yellow          4.1              56         Lemon\n",
      "31  Yellow          4.1              80         Apple\n",
      "32  Yellow          5.2             141          Pear\n",
      "33  Yellow          0.0             135          Pear\n",
      "34   Green          2.5               0         Apple\n"
     ]
    }
   ],
   "source": [
    "del_= del_duplicate(df)\n",
    "fill_= fill_values(df)\n",
    "transform= transform_nominal(df)\n",
    "normal= normalize_minmax(df)"
   ]
  },
  {
   "cell_type": "code",
   "execution_count": 33,
   "metadata": {},
   "outputs": [
    {
     "data": {
      "text/html": [
       "<div>\n",
       "<style scoped>\n",
       "    .dataframe tbody tr th:only-of-type {\n",
       "        vertical-align: middle;\n",
       "    }\n",
       "\n",
       "    .dataframe tbody tr th {\n",
       "        vertical-align: top;\n",
       "    }\n",
       "\n",
       "    .dataframe thead th {\n",
       "        text-align: right;\n",
       "    }\n",
       "</style>\n",
       "<table border=\"1\" class=\"dataframe\">\n",
       "  <thead>\n",
       "    <tr style=\"text-align: right;\">\n",
       "      <th></th>\n",
       "      <th>Colour</th>\n",
       "      <th>Radius (cm)</th>\n",
       "      <th>Weight (grams)</th>\n",
       "      <th>Fruit (class)</th>\n",
       "    </tr>\n",
       "  </thead>\n",
       "  <tbody>\n",
       "    <tr>\n",
       "      <th>0</th>\n",
       "      <td>Green</td>\n",
       "      <td>4.3</td>\n",
       "      <td>122</td>\n",
       "      <td>Pear</td>\n",
       "    </tr>\n",
       "    <tr>\n",
       "      <th>1</th>\n",
       "      <td>Green</td>\n",
       "      <td>4.6</td>\n",
       "      <td>152</td>\n",
       "      <td>Pear</td>\n",
       "    </tr>\n",
       "    <tr>\n",
       "      <th>2</th>\n",
       "      <td>Green</td>\n",
       "      <td>3.1</td>\n",
       "      <td>85</td>\n",
       "      <td>Apple</td>\n",
       "    </tr>\n",
       "    <tr>\n",
       "      <th>3</th>\n",
       "      <td>Green</td>\n",
       "      <td>3.6</td>\n",
       "      <td>173</td>\n",
       "      <td>Pear</td>\n",
       "    </tr>\n",
       "    <tr>\n",
       "      <th>4</th>\n",
       "      <td>Green</td>\n",
       "      <td>2.5</td>\n",
       "      <td>65</td>\n",
       "      <td>Lemon</td>\n",
       "    </tr>\n",
       "  </tbody>\n",
       "</table>\n",
       "</div>"
      ],
      "text/plain": [
       "  Colour  Radius (cm)  Weight (grams) Fruit (class)\n",
       "0  Green          4.3             122          Pear\n",
       "1  Green          4.6             152          Pear\n",
       "2  Green          3.1              85         Apple\n",
       "3  Green          3.6             173          Pear\n",
       "4  Green          2.5              65         Lemon"
      ]
     },
     "execution_count": 33,
     "metadata": {},
     "output_type": "execute_result"
    }
   ],
   "source": [
    "del_"
   ]
  },
  {
   "cell_type": "code",
   "execution_count": null,
   "metadata": {},
   "outputs": [],
   "source": []
  },
  {
   "cell_type": "code",
   "execution_count": null,
   "metadata": {},
   "outputs": [],
   "source": []
  }
 ],
 "metadata": {
  "kernelspec": {
   "display_name": "Python 3",
   "language": "python",
   "name": "python3"
  },
  "language_info": {
   "codemirror_mode": {
    "name": "ipython",
    "version": 3
   },
   "file_extension": ".py",
   "mimetype": "text/x-python",
   "name": "python",
   "nbconvert_exporter": "python",
   "pygments_lexer": "ipython3",
   "version": "3.8.3"
  }
 },
 "nbformat": 4,
 "nbformat_minor": 4
}
